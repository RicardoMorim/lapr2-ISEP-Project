{
 "cells": [
  {
   "cell_type": "code",
   "execution_count": 1,
   "metadata": {
    "ExecuteTime": {
     "end_time": "2024-06-09T16:06:20.948349800Z",
     "start_time": "2024-06-09T16:06:20.904149200Z"
    }
   },
   "outputs": [],
   "source": [
    "#%pip install scikit-learn"
   ]
  },
  {
   "cell_type": "code",
   "execution_count": 2,
   "metadata": {
    "ExecuteTime": {
     "end_time": "2024-06-09T16:06:20.950351100Z",
     "start_time": "2024-06-09T16:06:20.912272700Z"
    }
   },
   "outputs": [],
   "source": [
    "import os\n",
    "import pandas as pd\n",
    "import sys\n",
    "\n",
    "\n",
    "def read_csv(filename=\"water_consumption_updated.csv\", delimiter=\";\"):\n",
    "    if not os.path.exists(filename):\n",
    "        print(f\"File '{filename}' does not exist.\")\n",
    "        sys.exit(1)\n",
    "\n",
    "    df = pd.read_csv(filename, delimiter=delimiter)\n",
    "    if \"Consumption\" in df.columns:\n",
    "        df[\"Consumption\"] = pd.to_numeric(df[\"Consumption\"].str.replace(\",\", \".\"))\n",
    "        df[\"Month\"] = pd.to_numeric(df[\"Month\"], errors=\"coerce\")\n",
    "        df[\"Year\"] = pd.to_numeric(df[\"Year\"], errors=\"coerce\")\n",
    "        df[\"Day\"] = pd.to_numeric(df[\"Day\"], errors=\"coerce\")\n",
    "\n",
    "    if \"Area\" in df.columns:\n",
    "        df[\"Area\"] = pd.to_numeric(df[\"Area\"].str.replace(\",\", \".\"), errors=\"coerce\")\n",
    "\n",
    "    if df.empty or len(df) == 1:\n",
    "        raise ValueError(\"Empty file or file with only header.\")\n",
    "    return df\n"
   ]
  },
  {
   "cell_type": "code",
   "execution_count": 3,
   "metadata": {
    "ExecuteTime": {
     "end_time": "2024-06-09T16:06:20.971252500Z",
     "start_time": "2024-06-09T16:06:20.951359600Z"
    }
   },
   "outputs": [],
   "source": [
    "def calculate_monthly_cost(data):\n",
    "    data[\"MonthlyCost\"] = data[\"Consumption\"].apply(\n",
    "        lambda x: x * 0.7 if x <= 1000 else 1000 * 0.7 + (x - 1000) * 0.7 * 1.15)\n",
    "    return data\n",
    "\n",
    "\n",
    "def average_monthly_cost(data):\n",
    "    return data.groupby(\"Park\")[\"MonthlyCost\"].mean()\n"
   ]
  },
  {
   "cell_type": "code",
   "execution_count": 4,
   "metadata": {
    "ExecuteTime": {
     "end_time": "2024-06-09T16:06:21.040289600Z",
     "start_time": "2024-06-09T16:06:20.980606700Z"
    }
   },
   "outputs": [],
   "source": [
    "from sklearn.linear_model import LinearRegression\n",
    "import matplotlib.pyplot as plt\n",
    "\n",
    "\n",
    "def predict_cost():\n",
    "    # Read the data\n",
    "    df = read_csv(\"water_consumption_updated.csv\")\n",
    "    areas = read_csv(\"Area.csv\")\n",
    "\n",
    "    # Merge the consumption data with the area data\n",
    "    df = pd.merge(df, areas, on=\"Park\", how=\"left\")\n",
    "\n",
    "    # Group the data by park and month, and calculate the total consumption for each month\n",
    "    df[\"MonthYear\"] = pd.to_datetime(df['Year'].astype(str) + df['Month'].astype(str), format='%Y%m')\n",
    "    df = df.groupby([\"Park\", \"MonthYear\"])[\"Consumption\"].sum().reset_index()\n",
    "\n",
    "    # Calculate the monthly cost for each park\n",
    "    df = calculate_monthly_cost(df)\n",
    "\n",
    "    # Calculate the average cost per park\n",
    "    average_costs = average_monthly_cost(df)\n",
    "\n",
    "    # Convert the average_costs Series to a DataFrame\n",
    "    average_costs = average_costs.reset_index()\n",
    "    average_costs.columns = [\"Park\", \"AverageCost\"]\n",
    "\n",
    "    # Merge the average costs with the area data\n",
    "    data = pd.merge(areas, average_costs, on=\"Park\")\n",
    "\n",
    "    # Perform a linear regression\n",
    "    X = data[\"Area\"].values.reshape(-1, 1)\n",
    "    y = data[\"AverageCost\"]\n",
    "    model = LinearRegression().fit(X, y)\n",
    "\n",
    "    # Predict the average monthly cost\n",
    "    new_park_area = 55\n",
    "    predicted_cost = model.predict([[new_park_area]])\n",
    "    print(f\"The predicted average monthly cost for a 55-hectare park is {predicted_cost[0]:.2f}€\")\n",
    "\n",
    "    # Plot the actual data and the predicted data\n",
    "    print(\"Plotting the actual data and the predicted regression line...\")\n",
    "    plt.scatter(data[\"Area\"], data[\"AverageCost\"], color='blue')\n",
    "    plt.plot(data[\"Area\"], model.predict(X), color='red')\n",
    "    plt.title('Actual Data and Predicted Regression Line')\n",
    "    plt.xlabel('Area')\n",
    "    plt.ylabel('Average Cost')\n",
    "    plt.show()\n"
   ]
  },
  {
   "cell_type": "code",
   "execution_count": 5,
   "metadata": {
    "ExecuteTime": {
     "end_time": "2024-06-09T16:16:19.538577900Z",
     "start_time": "2024-06-09T16:16:19.530268500Z"
    }
   },
   "outputs": [],
   "source": [
    "import pandas as pd\n",
    "import matplotlib.pyplot as plt\n",
    "from sklearn.preprocessing import PolynomialFeatures\n",
    "from sklearn.linear_model import LinearRegression\n",
    "from sklearn.metrics import mean_squared_error, r2_score\n",
    "\n",
    "def polynomial_regression():\n",
    "    # Load the data from the file\n",
    "    data = pd.read_csv(\"execution_times.csv\", sep=\";\")\n",
    "\n",
    "    # Extract the input size and execution time from the data\n",
    "    input_size = data['size'].values.reshape(-1, 1)\n",
    "    data['time'] = data['time'].astype(float)\n",
    "    data['time'] = data['time'] / 1000  # Convert time to seconds\n",
    "    execution_time = data['time'].values\n",
    "\n",
    "    # Perform polynomial regression\n",
    "    poly_features = PolynomialFeatures(degree=2) \n",
    "    input_size_poly = poly_features.fit_transform(input_size)\n",
    "\n",
    "    model = LinearRegression()\n",
    "    model.fit(input_size_poly, execution_time)\n",
    "\n",
    "    # Make predictions\n",
    "    execution_time_pred = model.predict(input_size_poly)\n",
    "\n",
    "    # Evaluate the model\n",
    "    mse = mean_squared_error(execution_time, execution_time_pred)\n",
    "    r2 = r2_score(execution_time, execution_time_pred)\n",
    "\n",
    "    # Visualize the data and the fitted curve\n",
    "    plt.scatter(input_size, execution_time, color='blue', label=\"Actual Data\")\n",
    "    plt.plot(input_size, execution_time_pred, color='red', label=\"Fitted Curve\")\n",
    "    plt.title(\"Polynomial Regression\")\n",
    "    plt.xlabel(\"Input Size\")\n",
    "    plt.ylabel(\"Execution Time\")\n",
    "    plt.legend()\n",
    "    plt.show()\n",
    "\n",
    "    print(f\"Mean Squared Error: {mse*100:.2f}%\")\n",
    "    print(f\"R-squared: {r2*100:.2f}%\")"
   ]
  },
  {
   "cell_type": "code",
   "execution_count": 6,
   "metadata": {
    "ExecuteTime": {
     "end_time": "2024-06-09T16:16:23.697951800Z",
     "start_time": "2024-06-09T16:16:21.321042600Z"
    }
   },
   "outputs": [
    {
     "name": "stdout",
     "output_type": "stream",
     "text": [
      "-x-x-x-x-x-x- MENU -x-x-x-x-x-x-x-\n",
      "1. Average park cost\n",
      "2. Polynomial Regression\n",
      "9. Exit Application\n",
      "The predicted average monthly cost for a 55-hectare park is 1934.17€\n",
      "Plotting the actual data and the predicted regression line...\n"
     ]
    },
    {
     "data": {
      "image/png": "[encoded data removed]",
      "text/plain": [
       "<Figure size 640x480 with 1 Axes>"
      ]
     },
     "metadata": {},
     "output_type": "display_data"
    },
    {
     "name": "stdout",
     "output_type": "stream",
     "text": [
      "-x-x-x-x-x-x- MENU -x-x-x-x-x-x-x-\n",
      "1. Average park cost\n",
      "2. Polynomial Regression\n",
      "9. Exit Application\n"
     ]
    }
   ],
   "source": [
    "def menu():\n",
    "    while True:\n",
    "        print(\"-x-x-x-x-x-x- MENU -x-x-x-x-x-x-x-\")\n",
    "        print(\"1. Average park cost\")\n",
    "        print(\"2. Polynomial Regression\")\n",
    "        print(\"9. Exit Application\")\n",
    "        choice = input(\"Enter your choice: \")\n",
    "\n",
    "        match choice:\n",
    "            case \"1\":\n",
    "                predict_cost()\n",
    "            case \"2\":\n",
    "                polynomial_regression()\n",
    "            case \"9\":\n",
    "                print(\"Exiting Application\")\n",
    "                return \n",
    "            case _:\n",
    "                print(\"Invalid choice\")\n",
    "\n",
    "\n",
    "menu()"
   ]
  },
  {
   "cell_type": "markdown",
   "metadata": {},
   "source": []
  }
 ],
 "metadata": {
  "kernelspec": {
   "display_name": "Python 3 (ipykernel)",
   "language": "python",
   "name": "python3"
  },
  "language_info": {
   "codemirror_mode": {
    "name": "ipython",
    "version": 3
   },
   "file_extension": ".py",
   "mimetype": "text/x-python",
   "name": "python",
   "nbconvert_exporter": "python",
   "pygments_lexer": "ipython3",
   "version": "3.12.0"
  }
 },
 "nbformat": 4,
 "nbformat_minor": 2
}
