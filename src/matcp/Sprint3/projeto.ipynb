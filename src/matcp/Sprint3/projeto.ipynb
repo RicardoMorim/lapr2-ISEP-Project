{
 "cells": [
  {
   "cell_type": "code",
   "execution_count": 75,
   "metadata": {
    "ExecuteTime": {
     "end_time": "2024-05-28T10:17:42.778331100Z",
     "start_time": "2024-05-28T10:17:42.752869Z"
    }
   },
   "outputs": [],
   "source": [
    "#%pip install scikit-learn"
   ]
  },
  {
   "cell_type": "code",
   "execution_count": 76,
   "metadata": {
    "ExecuteTime": {
     "end_time": "2024-05-28T10:17:42.804320200Z",
     "start_time": "2024-05-28T10:17:42.783792700Z"
    }
   },
   "outputs": [],
   "source": [
    "import os\n",
    "import pandas as pd\n",
    "import sys\n",
    "\n",
    "\n",
    "def read_csv(filename=\"water_consumption_updated.csv\", delimiter=\";\"):\n",
    "    if not os.path.exists(filename):\n",
    "        print(f\"File '{filename}' does not exist.\")\n",
    "        sys.exit(1)\n",
    "\n",
    "    df = pd.read_csv(filename, delimiter=delimiter)\n",
    "    if \"Consumption\" in df.columns:\n",
    "        df[\"Consumption\"] = pd.to_numeric(df[\"Consumption\"].str.replace(\",\", \".\"))\n",
    "        df[\"Month\"] = pd.to_numeric(df[\"Month\"], errors=\"coerce\")\n",
    "        df[\"Year\"] = pd.to_numeric(df[\"Year\"], errors=\"coerce\")\n",
    "        df[\"Day\"] = pd.to_numeric(df[\"Day\"], errors=\"coerce\")\n",
    "\n",
    "    if \"Area\" in df.columns:\n",
    "        df[\"Area\"] = pd.to_numeric(df[\"Area\"].str.replace(\",\", \".\"), errors=\"coerce\")\n",
    "\n",
    "    if df.empty or len(df) == 1:\n",
    "        raise ValueError(\"Empty file or file with only header.\")\n",
    "    return df\n"
   ]
  },
  {
   "cell_type": "code",
   "execution_count": 77,
   "metadata": {
    "ExecuteTime": {
     "end_time": "2024-05-28T10:17:42.846962500Z",
     "start_time": "2024-05-28T10:17:42.809659600Z"
    }
   },
   "outputs": [],
   "source": [
    "def calculate_monthly_cost(data):\n",
    "    data[\"MonthlyCost\"] = data[\"Consumption\"].apply(\n",
    "        lambda x: x * 0.7 if x <= 1000 else 1000 * 0.7 + (x - 1000) * 0.7 * 1.15)\n",
    "    return data\n",
    "\n",
    "\n",
    "def average_monthly_cost(data):\n",
    "    return data.groupby(\"Park\")[\"MonthlyCost\"].mean()\n"
   ]
  },
  {
   "cell_type": "code",
   "execution_count": 78,
   "metadata": {
    "ExecuteTime": {
     "end_time": "2024-05-28T10:17:42.847987400Z",
     "start_time": "2024-05-28T10:17:42.820711Z"
    }
   },
   "outputs": [],
   "source": [
    "from sklearn.linear_model import LinearRegression\n",
    "\n",
    "\n",
    "def predict_cost():\n",
    "    # Read the data\n",
    "    df = read_csv(\"water_consumption_updated.csv\")\n",
    "    areas = read_csv(\"Area.csv\")\n",
    "\n",
    "    # Merge the consumption data with the area data\n",
    "    df = pd.merge(df, areas, on=\"Park\", how=\"left\")\n",
    "\n",
    "    # Group the data by park and month, and calculate the total consumption for each month\n",
    "    df[\"MonthYear\"] = pd.to_datetime(df['Year'].astype(str) + df['Month'].astype(str), format='%Y%m')\n",
    "    df = df.groupby([\"Park\", \"MonthYear\"])[\"Consumption\"].sum().reset_index()\n",
    "\n",
    "    # Calculate the monthly cost for each park\n",
    "    df = calculate_monthly_cost(df)\n",
    "\n",
    "    # Calculate the average cost per park\n",
    "    average_costs = average_monthly_cost(df)\n",
    "\n",
    "    # Convert the average_costs Series to a DataFrame\n",
    "    average_costs = average_costs.reset_index()\n",
    "    average_costs.columns = [\"Park\", \"AverageCost\"]\n",
    "\n",
    "    # Merge the average costs with the area data\n",
    "    data = pd.merge(areas, average_costs, on=\"Park\")\n",
    "\n",
    "    # Perform a linear regression\n",
    "    X = data[\"Area\"].values.reshape(-1, 1)\n",
    "    y = data[\"AverageCost\"]\n",
    "    model = LinearRegression().fit(X, y)\n",
    "\n",
    "    # Predict the average monthly cost\n",
    "    new_park_area = 55\n",
    "    predicted_cost = model.predict([[new_park_area]])\n",
    "    print(f\"The predicted average monthly cost for a 55-hectare park is {predicted_cost[0]:.2f}€\")"
   ]
  },
  {
   "cell_type": "code",
   "outputs": [
    {
     "name": "stdout",
     "output_type": "stream",
     "text": [
      "-x-x-x-x-x-x- MENU -x-x-x-x-x-x-x-\n",
      "1. Average park cost\n",
      "The predicted average monthly cost for a 55-hectare park is 1934.17€\n"
     ]
    }
   ],
   "source": [
    "def menu():\n",
    "    print(\"-x-x-x-x-x-x- MENU -x-x-x-x-x-x-x-\")\n",
    "    print(\"1. Average park cost\")\n",
    "\n",
    "    choice = input(\"Enter your choice: \")\n",
    "\n",
    "    match choice:\n",
    "        case \"1\":\n",
    "            predict_cost()\n",
    "        case _:\n",
    "            print(\"Invalid choice\")\n",
    "\n",
    "\n",
    "menu()"
   ],
   "metadata": {
    "collapsed": false,
    "ExecuteTime": {
     "end_time": "2024-05-28T10:17:44.081839100Z",
     "start_time": "2024-05-28T10:17:42.831602700Z"
    }
   },
   "execution_count": 79
  },
  {
   "cell_type": "markdown",
   "source": [],
   "metadata": {
    "collapsed": false
   }
  }
 ],
 "metadata": {
  "kernelspec": {
   "display_name": "Python 3 (ipykernel)",
   "language": "python",
   "name": "python3"
  },
  "language_info": {
   "codemirror_mode": {
    "name": "ipython",
    "version": 3
   },
   "file_extension": ".py",
   "mimetype": "text/x-python",
   "name": "python",
   "nbconvert_exporter": "python",
   "pygments_lexer": "ipython3",
   "version": "3.11.5"
  }
 },
 "nbformat": 4,
 "nbformat_minor": 2
}
