{
 "cells": [
  {
   "cell_type": "code",
   "execution_count": null,
   "metadata": {
    "ExecuteTime": {
     "end_time": "2024-05-28T10:17:42.778331100Z",
     "start_time": "2024-05-28T10:17:42.752869Z"
    }
   },
   "outputs": [],
   "source": [
    "#%pip install scikit-learn"
   ]
  },
  {
   "cell_type": "code",
   "execution_count": null,
   "metadata": {
    "ExecuteTime": {
     "end_time": "2024-05-28T10:17:42.804320200Z",
     "start_time": "2024-05-28T10:17:42.783792700Z"
    }
   },
   "outputs": [],
   "source": [
    "import os\n",
    "import pandas as pd\n",
    "import sys\n",
    "\n",
    "\n",
    "def read_csv(filename=\"water_consumption_updated.csv\", delimiter=\";\"):\n",
    "    if not os.path.exists(filename):\n",
    "        print(f\"File '{filename}' does not exist.\")\n",
    "        sys.exit(1)\n",
    "\n",
    "    df = pd.read_csv(filename, delimiter=delimiter)\n",
    "    if \"Consumption\" in df.columns:\n",
    "        df[\"Consumption\"] = pd.to_numeric(df[\"Consumption\"].str.replace(\",\", \".\"))\n",
    "        df[\"Month\"] = pd.to_numeric(df[\"Month\"], errors=\"coerce\")\n",
    "        df[\"Year\"] = pd.to_numeric(df[\"Year\"], errors=\"coerce\")\n",
    "        df[\"Day\"] = pd.to_numeric(df[\"Day\"], errors=\"coerce\")\n",
    "\n",
    "    if \"Area\" in df.columns:\n",
    "        df[\"Area\"] = pd.to_numeric(df[\"Area\"].str.replace(\",\", \".\"), errors=\"coerce\")\n",
    "\n",
    "    if df.empty or len(df) == 1:\n",
    "        raise ValueError(\"Empty file or file with only header.\")\n",
    "    return df\n"
   ]
  },
  {
   "cell_type": "code",
   "execution_count": null,
   "metadata": {
    "ExecuteTime": {
     "end_time": "2024-05-28T10:17:42.846962500Z",
     "start_time": "2024-05-28T10:17:42.809659600Z"
    }
   },
   "outputs": [],
   "source": [
    "def calculate_monthly_cost(data):\n",
    "    data[\"MonthlyCost\"] = data[\"Consumption\"].apply(\n",
    "        lambda x: x * 0.7 if x <= 1000 else 1000 * 0.7 + (x - 1000) * 0.7 * 1.15)\n",
    "    return data\n",
    "\n",
    "\n",
    "def average_monthly_cost(data):\n",
    "    return data.groupby(\"Park\")[\"MonthlyCost\"].mean()\n"
   ]
  },
  {
   "cell_type": "code",
   "execution_count": null,
   "metadata": {
    "ExecuteTime": {
     "end_time": "2024-06-07T14:06:31.102206400Z",
     "start_time": "2024-06-07T14:06:31.093358400Z"
    }
   },
   "outputs": [],
   "source": [
    "from sklearn.linear_model import LinearRegression\n",
    "import matplotlib.pyplot as plt\n",
    "\n",
    "\n",
    "def predict_cost():\n",
    "    # Read the data\n",
    "    df = read_csv(\"water_consumption_updated.csv\")\n",
    "    areas = read_csv(\"Area.csv\")\n",
    "\n",
    "    # Merge the consumption data with the area data\n",
    "    df = pd.merge(df, areas, on=\"Park\", how=\"left\")\n",
    "\n",
    "    # Group the data by park and month, and calculate the total consumption for each month\n",
    "    df[\"MonthYear\"] = pd.to_datetime(df['Year'].astype(str) + df['Month'].astype(str), format='%Y%m')\n",
    "    df = df.groupby([\"Park\", \"MonthYear\"])[\"Consumption\"].sum().reset_index()\n",
    "\n",
    "    # Calculate the monthly cost for each park\n",
    "    df = calculate_monthly_cost(df)\n",
    "\n",
    "    # Calculate the average cost per park\n",
    "    average_costs = average_monthly_cost(df)\n",
    "\n",
    "    # Convert the average_costs Series to a DataFrame\n",
    "    average_costs = average_costs.reset_index()\n",
    "    average_costs.columns = [\"Park\", \"AverageCost\"]\n",
    "\n",
    "    # Merge the average costs with the area data\n",
    "    data = pd.merge(areas, average_costs, on=\"Park\")\n",
    "\n",
    "    # Perform a linear regression\n",
    "    X = data[\"Area\"].values.reshape(-1, 1)\n",
    "    y = data[\"AverageCost\"]\n",
    "    model = LinearRegression().fit(X, y)\n",
    "\n",
    "    # Predict the average monthly cost\n",
    "    new_park_area = 55\n",
    "    predicted_cost = model.predict([[new_park_area]])\n",
    "    print(f\"The predicted average monthly cost for a 55-hectare park is {predicted_cost[0]:.2f}€\")\n",
    "\n",
    "    # Plot the actual data and the predicted data\n",
    "    print(\"Plotting the actual data and the predicted regression line...\")\n",
    "    plt.scatter(data[\"Area\"], data[\"AverageCost\"], color='blue')\n",
    "    plt.plot(data[\"Area\"], model.predict(X), color='red')\n",
    "    plt.title('Actual Data and Predicted Regression Line')\n",
    "    plt.xlabel('Area')\n",
    "    plt.ylabel('Average Cost')\n",
    "    plt.show()\n"
   ]
  },
  {
   "cell_type": "code",
   "execution_count": 1,
   "metadata": {},
   "outputs": [],
   "source": [
    "import pandas as pd\n",
    "import numpy as np\n",
    "import matplotlib.pyplot as plt\n",
    "from sklearn.preprocessing import PolynomialFeatures\n",
    "from sklearn.linear_model import LinearRegression\n",
    "from sklearn.metrics import mean_squared_error, r2_score\n",
    "\n",
    "def polynomial_regression():\n",
    "    # Load the data from the file\n",
    "    data = pd.read_csv(\"solution_us14.csv\", sep=';')\n",
    "\n",
    "    # Extract the input size and execution time from the data\n",
    "    input_size = data['size'].values.reshape(-1, 1)\n",
    "    data['time'] = data['time'].str.replace(',','.').astype(float)\n",
    "    execution_time = data['time'].values\n",
    "\n",
    "    # Perform polynomial regression\n",
    "    poly_features = PolynomialFeatures(degree=2)  # You can change the degree if needed\n",
    "    input_size_poly = poly_features.fit_transform(input_size)\n",
    "\n",
    "    model = LinearRegression()\n",
    "    model.fit(input_size_poly, execution_time)\n",
    "\n",
    "    # Make predictions\n",
    "    execution_time_pred = model.predict(input_size_poly)\n",
    "\n",
    "    # Evaluate the model\n",
    "    mse = mean_squared_error(execution_time, execution_time_pred)\n",
    "    r2 = r2_score(execution_time, execution_time_pred)\n",
    "\n",
    "    # Visualize the data and the fitted curve\n",
    "    plt.scatter(input_size, execution_time, color='blue', label=\"Actual Data\")\n",
    "    plt.plot(input_size, execution_time_pred, color='red', label=\"Fitted Curve\")\n",
    "    plt.title(\"Polynomial Regression\")\n",
    "    plt.xlabel(\"Input Size\")\n",
    "    plt.ylabel(\"Execution Time\")\n",
    "    plt.legend()\n",
    "    plt.show()\n",
    "\n",
    "    print(f\"Mean Squared Error: {mse*100:.2f}%\")\n",
    "    print(f\"R-squared: {r2*100:.2f}%\")"
   ]
  },
  {
   "cell_type": "code",
   "execution_count": null,
   "metadata": {
    "ExecuteTime": {
     "end_time": "2024-06-07T14:06:33.850162900Z",
     "start_time": "2024-06-07T14:06:32.746899300Z"
    }
   },
   "outputs": [],
   "source": [
    "def menu():\n",
    "    while True:\n",
    "        print(\"-x-x-x-x-x-x- MENU -x-x-x-x-x-x-x-\")\n",
    "        print(\"1. Average park cost\")\n",
    "        print(\"2. Polynomial Regression\")\n",
    "        print(\"9. Exit Application\")\n",
    "        choice = input(\"Enter your choice: \")\n",
    "\n",
    "        match choice:\n",
    "            case \"1\":\n",
    "                predict_cost()\n",
    "            case \"2\":\n",
    "                polynomial_regression()\n",
    "            case \"9\":\n",
    "                print(\"Exiting Application\")\n",
    "                return \n",
    "            case _:\n",
    "                print(\"Invalid choice\")\n",
    "\n",
    "\n",
    "menu()"
   ]
  },
  {
   "cell_type": "markdown",
   "metadata": {},
   "source": []
  },
  {
   "cell_type": "code",
   "execution_count": null,
   "metadata": {},
   "outputs": [],
   "source": []
  },
  {
   "cell_type": "code",
   "execution_count": null,
   "metadata": {},
   "outputs": [],
   "source": []
  },
  {
   "cell_type": "code",
   "execution_count": null,
   "metadata": {},
   "outputs": [],
   "source": []
  },
  {
   "cell_type": "code",
   "execution_count": null,
   "metadata": {},
   "outputs": [],
   "source": []
  },
  {
   "cell_type": "code",
   "execution_count": null,
   "metadata": {},
   "outputs": [],
   "source": []
  }
 ],
 "metadata": {
  "kernelspec": {
   "display_name": "Python 3 (ipykernel)",
   "language": "python",
   "name": "python3"
  },
  "language_info": {
   "codemirror_mode": {
    "name": "ipython",
    "version": 3
   },
   "file_extension": ".py",
   "mimetype": "text/x-python",
   "name": "python",
   "nbconvert_exporter": "python",
   "pygments_lexer": "ipython3",
   "version": "3.11.5"
  }
 },
 "nbformat": 4,
 "nbformat_minor": 2
}
